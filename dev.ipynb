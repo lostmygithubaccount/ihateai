{
 "cells": [
  {
   "cell_type": "code",
   "execution_count": null,
   "metadata": {},
   "outputs": [],
   "source": [
    "# imports\n",
    "import ibis\n",
    "import ibis.selectors as s\n",
    "import plotly.express as px\n",
    "\n",
    "## local imports\n",
    "from ihateai.data import read_training, transform\n",
    "from ihateai.grid import InputOutputPair\n",
    "from ihateai.utils import show_task_pairs, random_task_num\n",
    "\n",
    "# configuration\n",
    "px.defaults.template = \"plotly_dark\"\n",
    "\n",
    "ibis.options.interactive = True\n",
    "ibis.options.repr.interactive.max_rows = 10\n",
    "ibis.options.repr.interactive.max_length = 3\n",
    "ibis.options.repr.interactive.max_depth = 3\n",
    "ibis.options.repr.interactive.max_columns = None\n",
    "\n",
    "con = ibis.get_backend()"
   ]
  },
  {
   "cell_type": "code",
   "execution_count": null,
   "metadata": {},
   "outputs": [],
   "source": [
    "t = read_training()\n",
    "t"
   ]
  },
  {
   "cell_type": "code",
   "execution_count": null,
   "metadata": {},
   "outputs": [],
   "source": [
    "t.schema()"
   ]
  },
  {
   "cell_type": "code",
   "execution_count": null,
   "metadata": {},
   "outputs": [],
   "source": [
    "t.count()"
   ]
  },
  {
   "cell_type": "code",
   "execution_count": null,
   "metadata": {},
   "outputs": [],
   "source": [
    "train = transform(t)\n",
    "train"
   ]
  },
  {
   "cell_type": "code",
   "execution_count": null,
   "metadata": {},
   "outputs": [],
   "source": [
    "test = transform(t, test=True)\n",
    "test"
   ]
  },
  {
   "cell_type": "code",
   "execution_count": null,
   "metadata": {},
   "outputs": [],
   "source": [
    "task_num, example_num = random_task_num(train)\n",
    "grids = (\n",
    "    train.filter(train[\"task_num\"] == task_num)[\"input\", \"output\"]\n",
    "    .to_pyarrow()\n",
    "    .to_pylist()[0]\n",
    ")\n",
    "iop = InputOutputPair(grids[\"input\"], grids[\"output\"])\n",
    "iop"
   ]
  },
  {
   "cell_type": "code",
   "execution_count": null,
   "metadata": {},
   "outputs": [],
   "source": [
    "iop.input == iop.input"
   ]
  },
  {
   "cell_type": "code",
   "execution_count": null,
   "metadata": {},
   "outputs": [],
   "source": [
    "task_num = show_task_pairs(train, task_num=task_num)"
   ]
  },
  {
   "cell_type": "code",
   "execution_count": null,
   "metadata": {},
   "outputs": [],
   "source": [
    "show_task_pairs(test, task_num=task_num)"
   ]
  },
  {
   "cell_type": "code",
   "execution_count": null,
   "metadata": {},
   "outputs": [],
   "source": [
    "train.mutate(\n",
    "    input_width_eq_output_width=train[\"input_width\"] == train[\"output_width\"],\n",
    "    input_height_eq_output_height=train[\"input_height\"] == train[\"output_height\"],\n",
    ").relocate(\n",
    "    train.columns[:-2], \"input_width_eq_output_width\", \"input_height_eq_output_height\"\n",
    ")"
   ]
  },
  {
   "cell_type": "code",
   "execution_count": null,
   "metadata": {},
   "outputs": [],
   "source": [
    "train.group_by(\"task_num\").agg(\n",
    "    task_input_widths=train[\"input_width\"].collect().unique().sort(),\n",
    "    task_input_heights=train[\"input_height\"].collect().unique().sort(),\n",
    "    task_output_widths=train[\"output_width\"].collect().unique().sort(),\n",
    "    task_output_heights=train[\"output_height\"].collect().unique().sort(),\n",
    ").mutate(\n",
    "    task_input_widths_same=ibis._[\"task_input_widths\"].length() == 1,\n",
    "    task_input_heights_same=ibis._[\"task_input_heights\"].length() == 1,\n",
    "    task_output_widths_same=ibis._[\"task_output_widths\"].length() == 1,\n",
    "    task_output_heights_same=ibis._[\"task_output_heights\"].length() == 1,\n",
    ").order_by(\"task_num\").select(s.contains(\"_same\")).value_counts().order_by(\n",
    "    s.across(s.contains(\"_count\"), ibis.desc)\n",
    ")"
   ]
  },
  {
   "cell_type": "code",
   "execution_count": null,
   "metadata": {},
   "outputs": [],
   "source": [
    "train.select(train[\"output_colors\"].unnest()).distinct().count()"
   ]
  },
  {
   "cell_type": "code",
   "execution_count": null,
   "metadata": {},
   "outputs": [],
   "source": [
    "test = transform(t, test=True)\n",
    "test"
   ]
  },
  {
   "cell_type": "code",
   "execution_count": null,
   "metadata": {},
   "outputs": [],
   "source": [
    "train.count()"
   ]
  },
  {
   "cell_type": "code",
   "execution_count": null,
   "metadata": {},
   "outputs": [],
   "source": [
    "test.count()"
   ]
  },
  {
   "cell_type": "code",
   "execution_count": null,
   "metadata": {},
   "outputs": [],
   "source": [
    "def decision_tree(t):\n",
    "    res = (\n",
    "        t.select(\n",
    "            color_match=t[\"input_colors\"] == t[\"output_colors\"],\n",
    "            grid_match=(\n",
    "                (t[\"input_width\"] == t[\"output_width\"])\n",
    "                & (t[\"input_height\"] == t[\"output_height\"])\n",
    "            ),\n",
    "            width_match=t[\"input_width\"] == t[\"output_width\"],\n",
    "            height_match=t[\"input_height\"] == t[\"output_height\"],\n",
    "        )\n",
    "        .value_counts()\n",
    "        .order_by(\"color_match\", \"grid_match\", \"width_match\", \"height_match\")\n",
    "        .mutate(\n",
    "            percent=s.across(\n",
    "                s.contains(\"count\"),\n",
    "                lambda x: 100 * x / x.sum(),\n",
    "            )\n",
    "        )\n",
    "    )\n",
    "\n",
    "    return res"
   ]
  },
  {
   "cell_type": "code",
   "execution_count": null,
   "metadata": {},
   "outputs": [],
   "source": [
    "decision_tree(train)"
   ]
  },
  {
   "cell_type": "code",
   "execution_count": null,
   "metadata": {},
   "outputs": [],
   "source": [
    "decision_tree(test)"
   ]
  },
  {
   "cell_type": "code",
   "execution_count": null,
   "metadata": {},
   "outputs": [],
   "source": [
    "train = (\n",
    "    train.join(\n",
    "        train.select(\n",
    "            \"task_num\",\n",
    "            \"example_num\",\n",
    "            train[\"input\"].unnest(),\n",
    "            train[\"output\"].unnest(),\n",
    "        )\n",
    "        .group_by(\n",
    "            \"task_num\",\n",
    "            \"example_num\",\n",
    "        )\n",
    "        .agg(\n",
    "            input_colors=ibis._[\"input\"].collect().flatten().unique().sort(),\n",
    "            output_colors=ibis._[\"output\"].collect().flatten().unique().sort(),\n",
    "        ),\n",
    "        [\"task_num\", \"example_num\"],\n",
    "    )\n",
    "    .relocate(train.columns[:3], \"input_colors\", \"output_colors\")\n",
    "    .drop(s.contains(\"_right\"))\n",
    "    .order_by(\"task_num\", \"example_num\")\n",
    ")\n",
    "train"
   ]
  },
  {
   "cell_type": "code",
   "execution_count": null,
   "metadata": {},
   "outputs": [],
   "source": [
    "train.count()"
   ]
  },
  {
   "cell_type": "code",
   "execution_count": null,
   "metadata": {},
   "outputs": [],
   "source": [
    "train.select(\n",
    "    color_match=train[\"input_colors\"] == train[\"output_colors\"],\n",
    "    grid_match=(\n",
    "        (train[\"input_width\"] == train[\"output_width\"])\n",
    "        & (train[\"input_height\"] == train[\"output_height\"])\n",
    "    ),\n",
    "    input_match=(train[\"input_colors\"].length() == train[\"output_colors\"].length()),\n",
    "    output_match=(train[\"input_colors\"].length() == train[\"output_colors\"].length()),\n",
    ").value_counts().order_by(\"color_match\", \"grid_match\", \"input_match\", \"output_match\")"
   ]
  },
  {
   "cell_type": "code",
   "execution_count": null,
   "metadata": {},
   "outputs": [],
   "source": [
    "train[\"input\"].unnest().as_table()[\"input\"].unique().name(\"input_colors\")"
   ]
  },
  {
   "cell_type": "code",
   "execution_count": null,
   "metadata": {},
   "outputs": [],
   "source": [
    "train.group_by(\"input_width\", \"input_height\", \"output_width\", \"output_height\").agg(\n",
    "    count=train.count()\n",
    ").order_by(ibis.desc(\"count\"))"
   ]
  },
  {
   "cell_type": "code",
   "execution_count": null,
   "metadata": {},
   "outputs": [],
   "source": [
    "test = t.select(\"task_num\", t[\"test\"].unnest()).select(\n",
    "    \"task_num\",\n",
    "    ibis._[\"test\"][\"input\"],\n",
    "    ibis._[\"test\"][\"output\"],\n",
    ")\n",
    "test"
   ]
  },
  {
   "cell_type": "code",
   "execution_count": null,
   "metadata": {},
   "outputs": [],
   "source": [
    "train.mutate(\n",
    "    width=ibis._[\"input\"].length(),\n",
    "    height=ibis._[\"input\"][0].length(),\n",
    ").relocate"
   ]
  },
  {
   "cell_type": "code",
   "execution_count": null,
   "metadata": {},
   "outputs": [],
   "source": [
    "train.count()"
   ]
  },
  {
   "cell_type": "code",
   "execution_count": null,
   "metadata": {},
   "outputs": [],
   "source": [
    "test.count()"
   ]
  },
  {
   "cell_type": "code",
   "execution_count": null,
   "metadata": {},
   "outputs": [],
   "source": [
    "test[\"task_num\"].value_counts().order_by(ibis.desc(\"task_num_count\"))"
   ]
  },
  {
   "cell_type": "code",
   "execution_count": null,
   "metadata": {},
   "outputs": [],
   "source": [
    "test.filter(test[\"task_num\"] == 398)"
   ]
  },
  {
   "cell_type": "code",
   "execution_count": null,
   "metadata": {},
   "outputs": [],
   "source": []
  }
 ],
 "metadata": {
  "kernelspec": {
   "display_name": "venv",
   "language": "python",
   "name": "python3"
  },
  "language_info": {
   "codemirror_mode": {
    "name": "ipython",
    "version": 3
   },
   "file_extension": ".py",
   "mimetype": "text/x-python",
   "name": "python",
   "nbconvert_exporter": "python",
   "pygments_lexer": "ipython3",
   "version": "3.11.8"
  }
 },
 "nbformat": 4,
 "nbformat_minor": 2
}
