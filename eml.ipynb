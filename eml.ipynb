{
 "cells": [
  {
   "cell_type": "code",
   "execution_count": null,
   "metadata": {},
   "outputs": [],
   "source": [
    "# imports\n",
    "import ibis\n",
    "import torch\n",
    "import ibis.selectors as s\n",
    "import plotly.express as px\n",
    "\n",
    "## local imports\n",
    "from ihateai.data import read_training, transform\n",
    "from ihateai.grid import InputOutputPair\n",
    "from ihateai.utils import show_task_pairs, random_task_num\n",
    "\n",
    "# configuration\n",
    "px.defaults.template = \"plotly_dark\"\n",
    "\n",
    "ibis.options.interactive = True\n",
    "ibis.options.repr.interactive.max_rows = 3\n",
    "ibis.options.repr.interactive.max_length = 3\n",
    "ibis.options.repr.interactive.max_depth = 3\n",
    "ibis.options.repr.interactive.max_columns = None\n",
    "\n",
    "con = ibis.get_backend()"
   ]
  },
  {
   "cell_type": "code",
   "execution_count": null,
   "metadata": {},
   "outputs": [],
   "source": [
    "t = read_training()\n",
    "t"
   ]
  },
  {
   "cell_type": "code",
   "execution_count": null,
   "metadata": {},
   "outputs": [],
   "source": [
    "train = transform(t)\n",
    "train"
   ]
  },
  {
   "cell_type": "code",
   "execution_count": null,
   "metadata": {},
   "outputs": [],
   "source": [
    "test = transform(t, test=True)\n",
    "test"
   ]
  },
  {
   "cell_type": "code",
   "execution_count": null,
   "metadata": {},
   "outputs": [],
   "source": [
    "MIN_WIDTH, MIN_HEIGHT, MAX_WIDTH, MAX_HEIGHT = 1, 1, 30, 30\n",
    "COLORS = range(0, 10)\n",
    "HEIGHTS = range(MIN_HEIGHT, MAX_HEIGHT + 1)"
   ]
  },
  {
   "cell_type": "code",
   "execution_count": null,
   "metadata": {},
   "outputs": [],
   "source": [
    "def ohe(t):\n",
    "    f = t.mutate(\n",
    "        **{\n",
    "            f\"ohe_input_colors_{i}\": t[\"input_colors\"].contains(i).cast(\"int8\")\n",
    "            for i in COLORS\n",
    "        },\n",
    "        **{\n",
    "            f\"ohe_output_colors_{i}\": t[\"output_colors\"].contains(i).cast(\"int8\")\n",
    "            for i in COLORS\n",
    "        },\n",
    "        **{\n",
    "            f\"ohe_input_height_{i}\": (t[\"input_height\"] == i).cast(\"int8\")\n",
    "            for i in HEIGHTS\n",
    "        },\n",
    "        **{\n",
    "            f\"ohe_output_height_{i}\": (t[\"output_height\"] == i).cast(\"int8\")\n",
    "            for i in HEIGHTS\n",
    "        },\n",
    "        **{\n",
    "            f\"ohe_input_width_{i}\": (t[\"input_width\"] == i).cast(\"int8\")\n",
    "            for i in HEIGHTS\n",
    "        },\n",
    "        **{\n",
    "            f\"ohe_output_width_{i}\": (t[\"output_width\"] == i).cast(\"int8\")\n",
    "            for i in HEIGHTS\n",
    "        },\n",
    "    )\n",
    "    return f"
   ]
  },
  {
   "cell_type": "code",
   "execution_count": null,
   "metadata": {},
   "outputs": [],
   "source": [
    "Train = ohe(train).select(s.contains(\"ohe\"))\n",
    "Test = ohe(test).select(s.contains(\"ohe\"))"
   ]
  },
  {
   "cell_type": "code",
   "execution_count": null,
   "metadata": {},
   "outputs": [],
   "source": [
    "Train"
   ]
  },
  {
   "cell_type": "code",
   "execution_count": null,
   "metadata": {},
   "outputs": [],
   "source": [
    "Test"
   ]
  },
  {
   "cell_type": "code",
   "execution_count": null,
   "metadata": {},
   "outputs": [],
   "source": [
    "import plotly.express as px\n",
    "from sklearn.decomposition import PCA\n",
    "\n",
    "# kmeans for clustering for colorsf\n",
    "from sklearn.cluster import KMeans\n",
    "\n",
    "X = Train\n",
    "\n",
    "n_components = 3\n",
    "n_clusters = 3\n",
    "pca = PCA(n_components=n_components).fit(X)\n",
    "\n",
    "t_pca = ibis.memtable(pca.transform(X)).rename(\n",
    "    {\"pc1\": \"col0\", \"pc2\": \"col1\", \"pc3\": \"col2\"}\n",
    ")\n",
    "\n",
    "kmeans = KMeans(n_clusters=n_clusters).fit(t_pca)\n",
    "labels = ibis.memtable(kmeans.labels_).rename({\"cluster\": \"col0\"})\n",
    "t_pca = (\n",
    "    t_pca.mutate(row_number=ibis.row_number())\n",
    "    .join(labels.mutate(row_number=ibis.row_number()), \"row_number\")\n",
    "    .drop(\"row_number\")\n",
    "    .relocate(\"cluster\")\n",
    ")\n",
    "\n",
    "c = px.scatter_3d(\n",
    "    t_pca,\n",
    "    x=\"pc1\",\n",
    "    y=\"pc2\",\n",
    "    z=\"pc3\",\n",
    "    color=\"cluster\",\n",
    ")\n",
    "c.show(renderer=\"browser\")"
   ]
  },
  {
   "cell_type": "code",
   "execution_count": null,
   "metadata": {},
   "outputs": [],
   "source": [
    "def tensors(T):\n",
    "    input_colors_t = torch.stack(\n",
    "        [tensor for key, tensor in T.items() if key.startswith(\"ohe_input_colors\")],\n",
    "        dim=0,\n",
    "    ).transpose(0, 1)\n",
    "    input_height_t = torch.stack(\n",
    "        [tensor for key, tensor in T.items() if key.startswith(\"ohe_input_height\")],\n",
    "        dim=0,\n",
    "    ).transpose(0, 1)\n",
    "    input_width_t = torch.stack(\n",
    "        [tensor for key, tensor in T.items() if key.startswith(\"ohe_input_width\")],\n",
    "        dim=0,\n",
    "    ).transpose(0, 1)\n",
    "    output_colors_t = torch.stack(\n",
    "        [tensor for key, tensor in T.items() if key.startswith(\"ohe_output_colors\")],\n",
    "        dim=0,\n",
    "    ).transpose(0, 1)\n",
    "    output_height_t = torch.stack(\n",
    "        [tensor for key, tensor in T.items() if key.startswith(\"ohe_output_height\")],\n",
    "        dim=0,\n",
    "    ).transpose(0, 1)\n",
    "    output_width_t = torch.stack(\n",
    "        [tensor for key, tensor in T.items() if key.startswith(\"ohe_output_width\")],\n",
    "        dim=0,\n",
    "    ).transpose(0, 1)\n",
    "\n",
    "    return (\n",
    "        input_colors_t,\n",
    "        input_height_t,\n",
    "        input_width_t,\n",
    "        output_colors_t,\n",
    "        output_height_t,\n",
    "        output_width_t,\n",
    "    )"
   ]
  },
  {
   "cell_type": "code",
   "execution_count": null,
   "metadata": {},
   "outputs": [],
   "source": [
    "(\n",
    "    train_input_colors_t,\n",
    "    train_input_height_t,\n",
    "    train_input_width_t,\n",
    "    train_output_colors_t,\n",
    "    train_output_height_t,\n",
    "    train_output_width_t,\n",
    ") = tensors(Train.to_torch())\n",
    "(\n",
    "    test_input_colors_t,\n",
    "    test_input_height_t,\n",
    "    test_input_width_t,\n",
    "    test_output_colors_t,\n",
    "    test_output_height_t,\n",
    "    test_output_width_t,\n",
    ") = tensors(Test.to_torch())"
   ]
  },
  {
   "cell_type": "code",
   "execution_count": null,
   "metadata": {},
   "outputs": [],
   "source": [
    "X_train = train_input_colors_t\n",
    "y_train = train_output_colors_t\n",
    "X_test = test_input_colors_t\n",
    "y_test = test_output_colors_t"
   ]
  },
  {
   "cell_type": "code",
   "execution_count": null,
   "metadata": {},
   "outputs": [],
   "source": [
    "import torch\n",
    "import lightning as L\n",
    "\n",
    "from torch import nn\n",
    "\n",
    "\n",
    "class LitAutoEncoder(L.LightningModule):\n",
    "    def __init__(self):\n",
    "        super().__init__()\n",
    "\n",
    "        encoder = nn.Sequential(\n",
    "            nn.Linear(X_train.shape[1], 64), nn.ReLU(), nn.Linear(64, 3)\n",
    "        )\n",
    "        decoder = nn.Sequential(\n",
    "            nn.Linear(3, 64), nn.ReLU(), nn.Linear(64, y_train.shape[1])\n",
    "        )\n",
    "        self.encoder = encoder\n",
    "        self.decoder = decoder\n",
    "\n",
    "    def training_step(self, batch, batch_idx):\n",
    "        x, y = batch\n",
    "\n",
    "        z = self.encoder(x)\n",
    "        x_hat = self.decoder(z)\n",
    "        loss = nn.functional.mse_loss(x_hat, y)\n",
    "        self.log(\"train_loss\", loss)\n",
    "        return loss\n",
    "\n",
    "    def forward(self, x):\n",
    "        z = self.encoder(x)\n",
    "        x_hat = self.decoder(z)\n",
    "\n",
    "        # round up to 1 or down to 0\n",
    "        x_hat = torch.round(x_hat)\n",
    "        return x_hat\n",
    "\n",
    "    def configure_optimizers(self):\n",
    "        optimizer = torch.optim.Adam(self.parameters(), lr=1e-3)\n",
    "        return optimizer"
   ]
  },
  {
   "cell_type": "code",
   "execution_count": null,
   "metadata": {},
   "outputs": [],
   "source": [
    "# init the autoencoder\n",
    "autoencoder = LitAutoEncoder()"
   ]
  },
  {
   "cell_type": "code",
   "execution_count": null,
   "metadata": {},
   "outputs": [],
   "source": [
    "from torch.utils.data import TensorDataset, DataLoader\n",
    "\n",
    "train_dataset = TensorDataset(\n",
    "    torch.tensor(X_train, dtype=torch.float32),\n",
    "    torch.tensor(y_train, dtype=torch.float32),\n",
    ")\n",
    "test_dataset = TensorDataset(\n",
    "    torch.tensor(X_test, dtype=torch.float32), torch.tensor(y_test, dtype=torch.float32)\n",
    ")\n",
    "\n",
    "train_loader = DataLoader(train_dataset, batch_size=32, shuffle=True)\n",
    "test_loader = DataLoader(test_dataset, batch_size=32, shuffle=False)"
   ]
  },
  {
   "cell_type": "code",
   "execution_count": null,
   "metadata": {},
   "outputs": [],
   "source": [
    "trainer = L.Trainer(accelerator=\"mps\", max_epochs=100, log_every_n_steps=10)\n",
    "trainer.fit(autoencoder, train_loader)"
   ]
  },
  {
   "cell_type": "code",
   "execution_count": null,
   "metadata": {},
   "outputs": [],
   "source": [
    "model = LitAutoEncoder.load_from_checkpoint(\n",
    "    \"lightning_logs/version_3/checkpoints/epoch=99-step=4100.ckpt\"\n",
    ")\n",
    "model.to(\"mps\")\n",
    "model"
   ]
  },
  {
   "cell_type": "code",
   "execution_count": null,
   "metadata": {},
   "outputs": [],
   "source": [
    "with torch.no_grad():\n",
    "    y_hat = model(torch.tensor(X_test, dtype=torch.float32).to(\"mps\"))"
   ]
  },
  {
   "cell_type": "code",
   "execution_count": null,
   "metadata": {},
   "outputs": [],
   "source": [
    "y_hat"
   ]
  },
  {
   "cell_type": "code",
   "execution_count": null,
   "metadata": {},
   "outputs": [],
   "source": [
    "# compute mse\n",
    "mse = nn.functional.mse_loss(y_hat.cpu(), torch.tensor(y_test, dtype=torch.float32))\n",
    "mse"
   ]
  }
 ],
 "metadata": {
  "kernelspec": {
   "display_name": "venv",
   "language": "python",
   "name": "python3"
  },
  "language_info": {
   "codemirror_mode": {
    "name": "ipython",
    "version": 3
   },
   "file_extension": ".py",
   "mimetype": "text/x-python",
   "name": "python",
   "nbconvert_exporter": "python",
   "pygments_lexer": "ipython3",
   "version": "3.11.8"
  }
 },
 "nbformat": 4,
 "nbformat_minor": 2
}
