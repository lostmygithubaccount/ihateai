{
 "cells": [
  {
   "cell_type": "code",
   "execution_count": null,
   "metadata": {},
   "outputs": [],
   "source": [
    "# imports\n",
    "import os\n",
    "import glob\n",
    "import ibis\n",
    "import torch\n",
    "import lightning as L\n",
    "import ibis.selectors as s\n",
    "import plotly.express as px\n",
    "\n",
    "from torch import nn\n",
    "from torch.utils.data import TensorDataset, DataLoader\n",
    "\n",
    "## local imports\n",
    "from ihateai.data import read_training, transform\n",
    "from ihateai.grid import InputOutputPair\n",
    "from ihateai.utils import show_task_pairs, random_task_num\n",
    "\n",
    "# configuration\n",
    "px.defaults.template = \"plotly_dark\"\n",
    "\n",
    "ibis.options.interactive = True\n",
    "ibis.options.repr.interactive.max_rows = 3\n",
    "ibis.options.repr.interactive.max_length = 3\n",
    "ibis.options.repr.interactive.max_depth = 3\n",
    "ibis.options.repr.interactive.max_columns = None\n",
    "\n",
    "con = ibis.get_backend()"
   ]
  },
  {
   "cell_type": "code",
   "execution_count": null,
   "metadata": {},
   "outputs": [],
   "source": [
    "t = read_training()\n",
    "t"
   ]
  },
  {
   "cell_type": "code",
   "execution_count": null,
   "metadata": {},
   "outputs": [],
   "source": [
    "test = transform(t, test=True)\n",
    "train = transform(t)\n",
    "train"
   ]
  },
  {
   "cell_type": "code",
   "execution_count": null,
   "metadata": {},
   "outputs": [],
   "source": [
    "def agg_t(t):\n",
    "    agg = (\n",
    "        t.join(\n",
    "            t.group_by(\"task_num\").agg(\n",
    "                all_input_colors=ibis._[\"input_colors\"]\n",
    "                .collect()\n",
    "                .flatten()\n",
    "                .unique()\n",
    "                .sort(),\n",
    "                all_output_colors=ibis._[\"output_colors\"]\n",
    "                .collect()\n",
    "                .flatten()\n",
    "                .unique()\n",
    "                .sort(),\n",
    "            ),\n",
    "            \"task_num\",\n",
    "        )\n",
    "        .group_by(\"task_num\")\n",
    "        .agg(\n",
    "            f_input_colors_match_output_colors=(\n",
    "                ibis._[\"input_colors\"] == ibis._[\"output_colors\"]\n",
    "            ).all(),\n",
    "            f_input_height_match_output_height=(\n",
    "                ibis._[\"input_height\"] == ibis._[\"output_height\"]\n",
    "            ).all(),\n",
    "            f_input_width_match_output_width=(\n",
    "                ibis._[\"input_width\"] == ibis._[\"output_width\"]\n",
    "            ).all(),\n",
    "            f_input_colors_all_same=(\n",
    "                ibis._[\"all_input_colors\"] == ibis._[\"input_colors\"]\n",
    "            ).all(),\n",
    "            f_input_height_all_same=(ibis._[\"input_height\"].nunique() == 1),\n",
    "            f_input_width_all_same=(ibis._[\"input_width\"].nunique() == 1),\n",
    "            f_output_colors_all_same=(\n",
    "                ibis._[\"all_output_colors\"] == ibis._[\"output_colors\"]\n",
    "            ).all(),\n",
    "            f_output_height_all_same=(ibis._[\"output_height\"].nunique() == 1),\n",
    "            f_output_width_all_same=(ibis._[\"output_width\"].nunique() == 1),\n",
    "            f_input_colors_subset_of_output_colors=(\n",
    "                (\n",
    "                    ibis._[\"input_colors\"].intersect(ibis._[\"all_output_colors\"])\n",
    "                    == ibis._[\"input_colors\"]\n",
    "                ).all()\n",
    "            ),\n",
    "            f_output_colors_subset_of_input_colors=(\n",
    "                (\n",
    "                    ibis._[\"output_colors\"].intersect(ibis._[\"all_input_colors\"])\n",
    "                    == ibis._[\"output_colors\"]\n",
    "                ).all()\n",
    "            ),\n",
    "            input_output_colors_intersect=(\n",
    "                ibis._[\"output_colors\"]\n",
    "                .intersect(ibis._[\"input_colors\"])\n",
    "                .collect()\n",
    "                .flatten()\n",
    "                .unique()\n",
    "                .sort()\n",
    "            ),\n",
    "            input_all_input_colors_intersect=(\n",
    "                ibis._[\"all_input_colors\"]\n",
    "                .intersect(ibis._[\"input_colors\"])\n",
    "                .collect()\n",
    "                .flatten()\n",
    "                .unique()\n",
    "                .sort()\n",
    "            ),\n",
    "            output_all_output_colors_intersect=(\n",
    "                ibis._[\"all_output_colors\"]\n",
    "                .intersect(ibis._[\"output_colors\"])\n",
    "                .collect()\n",
    "                .flatten()\n",
    "                .unique()\n",
    "                .sort()\n",
    "            ),\n",
    "        )\n",
    "        .mutate(\n",
    "            f_input_grid_matches_output_grid=(\n",
    "                ibis._[\"f_input_height_match_output_height\"]\n",
    "                & ibis._[\"f_input_width_match_output_width\"]\n",
    "            ),\n",
    "            f_output_grid_all_same=(\n",
    "                ibis._[\"f_output_height_all_same\"] & ibis._[\"f_output_width_all_same\"]\n",
    "            ),\n",
    "        )\n",
    "        .mutate(s.across(s.of_type(bool), ibis._.cast(\"int8\")))\n",
    "        .order_by(\"task_num\")\n",
    "    )\n",
    "\n",
    "    return agg\n",
    "\n",
    "\n",
    "def decision_tree(t):\n",
    "    agg = agg_t(t)\n",
    "    return t.join(agg, \"task_num\")"
   ]
  },
  {
   "cell_type": "code",
   "execution_count": null,
   "metadata": {},
   "outputs": [],
   "source": [
    "test = decision_tree(test)\n",
    "train = decision_tree(train)\n",
    "train"
   ]
  },
  {
   "cell_type": "code",
   "execution_count": null,
   "metadata": {},
   "outputs": [],
   "source": [
    "train.count()"
   ]
  },
  {
   "cell_type": "code",
   "execution_count": null,
   "metadata": {},
   "outputs": [],
   "source": [
    "test.count()"
   ]
  },
  {
   "cell_type": "code",
   "execution_count": null,
   "metadata": {},
   "outputs": [],
   "source": [
    "MIN_WIDTH, MIN_HEIGHT, MAX_WIDTH, MAX_HEIGHT = 1, 1, 30, 30\n",
    "COLORS = range(0, 10)\n",
    "WIDTHS = range(MIN_WIDTH, MAX_WIDTH + 1)\n",
    "HEIGHTS = range(MIN_HEIGHT, MAX_HEIGHT + 1)"
   ]
  },
  {
   "cell_type": "code",
   "execution_count": null,
   "metadata": {},
   "outputs": [],
   "source": [
    "def enc(t):\n",
    "    f = t.mutate(\n",
    "        **{\n",
    "            f\"enc_input_colors_{i}\": t[\"input_colors\"].contains(i).cast(\"int8\")\n",
    "            for i in COLORS\n",
    "        },\n",
    "        **{\n",
    "            f\"enc_output_colors_{i}\": t[\"output_colors\"].contains(i).cast(\"int8\")\n",
    "            for i in COLORS\n",
    "        },\n",
    "        **{\n",
    "            f\"enc_input_height_{i}\": (t[\"input_height\"] == i).cast(\"int8\")\n",
    "            for i in HEIGHTS\n",
    "        },\n",
    "        **{\n",
    "            f\"enc_output_height_{i}\": (t[\"output_height\"] == i).cast(\"int8\")\n",
    "            for i in HEIGHTS\n",
    "        },\n",
    "        **{\n",
    "            f\"enc_input_width_{i}\": (t[\"input_width\"] == i).cast(\"int8\") for i in WIDTHS\n",
    "        },\n",
    "        **{\n",
    "            f\"enc_output_width_{i}\": (t[\"output_width\"] == i).cast(\"int8\")\n",
    "            for i in WIDTHS\n",
    "        },\n",
    "        **{\n",
    "            f\"enc_input_output_colors_intersect_{i}\": (\n",
    "                t[\"input_output_colors_intersect\"].contains(i)\n",
    "            ).cast(\"int8\")\n",
    "            for i in COLORS\n",
    "        },\n",
    "        **{\n",
    "            f\"enc_input_all_input_colors_intersect_{i}\": (\n",
    "                t[\"input_all_input_colors_intersect\"].contains(i)\n",
    "            ).cast(\"int8\")\n",
    "            for i in COLORS\n",
    "        },\n",
    "        **{\n",
    "            f\"enc_output_all_output_colors_intersect_{i}\": (\n",
    "                t[\"output_all_output_colors_intersect\"].contains(i)\n",
    "            ).cast(\"int8\")\n",
    "            for i in COLORS\n",
    "        },\n",
    "    )\n",
    "\n",
    "    return f"
   ]
  },
  {
   "cell_type": "code",
   "execution_count": null,
   "metadata": {},
   "outputs": [],
   "source": [
    "Train = enc(train).select(\n",
    "    \"task_num\",\n",
    "    s.contains(\"enc\"),\n",
    "    s.startswith(\"f_\"),\n",
    ")\n",
    "# TODO: this is a major fuck-up, I think\n",
    "# Test = enc(test).select(\n",
    "#     s.startswith(\"f_\"),\n",
    "#     s.contains(\"enc\"),\n",
    "# )\n",
    "Test = (\n",
    "    (\n",
    "        enc(test)\n",
    "        .drop((s.contains(\"intersect\")) & (s.startswith(\"enc_\")))\n",
    "        .select(\"task_num\", s.startswith(\"enc\"))\n",
    "        .join(\n",
    "            Train.select(\n",
    "                \"task_num\",\n",
    "                (s.contains(\"intersect\") & (s.startswith(\"enc_\"))),\n",
    "                s.startswith(\"f_\"),\n",
    "            ),\n",
    "            \"task_num\",\n",
    "        )\n",
    "    )\n",
    "    .distinct()\n",
    "    .drop(\"task_num\")\n",
    ")\n",
    "Train = Train.drop(\"task_num\")"
   ]
  },
  {
   "cell_type": "code",
   "execution_count": null,
   "metadata": {},
   "outputs": [],
   "source": [
    "Train"
   ]
  },
  {
   "cell_type": "code",
   "execution_count": null,
   "metadata": {},
   "outputs": [],
   "source": [
    "Train.count()"
   ]
  },
  {
   "cell_type": "code",
   "execution_count": null,
   "metadata": {},
   "outputs": [],
   "source": [
    "Test"
   ]
  },
  {
   "cell_type": "code",
   "execution_count": null,
   "metadata": {},
   "outputs": [],
   "source": [
    "Test.count()"
   ]
  },
  {
   "cell_type": "code",
   "execution_count": null,
   "metadata": {},
   "outputs": [],
   "source": [
    "# X = Train.select(s.contains(\"height\"), s.contains(\"width\"))\n",
    "X = Train.select(s.contains(\"color\"))\n",
    "len(X.columns)"
   ]
  },
  {
   "cell_type": "code",
   "execution_count": null,
   "metadata": {},
   "outputs": [],
   "source": [
    "import plotly.express as px\n",
    "from sklearn.cluster import KMeans\n",
    "from sklearn.decomposition import PCA\n",
    "\n",
    "n_components = 3\n",
    "n_clusters = 10\n",
    "pca = PCA(n_components=n_components).fit(X)\n",
    "\n",
    "t_pca = ibis.memtable(pca.transform(X)).rename(\n",
    "    {\"pc1\": \"col0\", \"pc2\": \"col1\", \"pc3\": \"col2\"}\n",
    ")\n",
    "\n",
    "kmeans = KMeans(n_clusters=n_clusters).fit(t_pca)\n",
    "labels = ibis.memtable(kmeans.labels_).rename({\"cluster\": \"col0\"})\n",
    "t_pca = (\n",
    "    t_pca.mutate(row_number=ibis.row_number())\n",
    "    .join(labels.mutate(row_number=ibis.row_number()), \"row_number\")\n",
    "    .drop(\"row_number\")\n",
    "    .relocate(\"cluster\")\n",
    ")\n",
    "\n",
    "c = px.scatter_3d(\n",
    "    t_pca,\n",
    "    x=\"pc1\",\n",
    "    y=\"pc2\",\n",
    "    z=\"pc3\",\n",
    "    color=\"cluster\",\n",
    ")\n",
    "c.show(renderer=\"browser\")"
   ]
  },
  {
   "cell_type": "code",
   "execution_count": null,
   "metadata": {},
   "outputs": [],
   "source": [
    "t_pca"
   ]
  },
  {
   "cell_type": "code",
   "execution_count": null,
   "metadata": {},
   "outputs": [],
   "source": [
    "def tensors(T):\n",
    "    input_colors_t = torch.stack(\n",
    "        [\n",
    "            tensor\n",
    "            for key, tensor in T.items()\n",
    "            if \"color\" in key\n",
    "            and (key.startswith(\"enc_\") or key.startswith(\"f_\"))\n",
    "            and ~key.startswith(\"enc_output_colors\")\n",
    "        ],\n",
    "        dim=0,\n",
    "    ).transpose(0, 1)\n",
    "    input_height_t = torch.stack(\n",
    "        [\n",
    "            tensor\n",
    "            for key, tensor in T.items()\n",
    "            if (\"height\" in key or \"grid\" in key)\n",
    "            and (key.startswith(\"enc_\") or key.startswith(\"f_\"))\n",
    "            and ~key.startswith(\"enc_output_height\")\n",
    "        ],\n",
    "        dim=0,\n",
    "    ).transpose(0, 1)\n",
    "    input_width_t = torch.stack(\n",
    "        [\n",
    "            tensor\n",
    "            for key, tensor in T.items()\n",
    "            if (\"width\" in key or \"grid\" in key)\n",
    "            and (key.startswith(\"enc_\") or key.startswith(\"f_\"))\n",
    "            and ~key.startswith(\"enc_output_height\")\n",
    "        ],\n",
    "        dim=0,\n",
    "    ).transpose(0, 1)\n",
    "    output_colors_t = torch.stack(\n",
    "        [tensor for key, tensor in T.items() if key.startswith(\"enc_output_colors\")],\n",
    "        dim=0,\n",
    "    ).transpose(0, 1)\n",
    "    output_height_t = torch.stack(\n",
    "        [tensor for key, tensor in T.items() if key.startswith(\"enc_output_height\")],\n",
    "        dim=0,\n",
    "    ).transpose(0, 1)\n",
    "    output_width_t = torch.stack(\n",
    "        [tensor for key, tensor in T.items() if key.startswith(\"enc_output_width\")],\n",
    "        dim=0,\n",
    "    ).transpose(0, 1)\n",
    "\n",
    "    return (\n",
    "        input_colors_t,\n",
    "        input_height_t,\n",
    "        input_width_t,\n",
    "        output_colors_t,\n",
    "        output_height_t,\n",
    "        output_width_t,\n",
    "    )"
   ]
  },
  {
   "cell_type": "code",
   "execution_count": null,
   "metadata": {},
   "outputs": [],
   "source": [
    "(\n",
    "    train_input_colors_t,\n",
    "    train_input_height_t,\n",
    "    train_input_width_t,\n",
    "    train_output_colors_t,\n",
    "    train_output_height_t,\n",
    "    train_output_width_t,\n",
    ") = tensors(Train.to_torch())\n",
    "(\n",
    "    test_input_colors_t,\n",
    "    test_input_height_t,\n",
    "    test_input_width_t,\n",
    "    test_output_colors_t,\n",
    "    test_output_height_t,\n",
    "    test_output_width_t,\n",
    ") = tensors(Test.to_torch())"
   ]
  },
  {
   "cell_type": "code",
   "execution_count": null,
   "metadata": {},
   "outputs": [],
   "source": [
    "model_type = \"colors\"\n",
    "X_train = train_input_colors_t\n",
    "y_train = train_output_colors_t\n",
    "X_test = test_input_colors_t\n",
    "y_test = test_output_colors_t\n",
    "\n",
    "# model_type = \"height\"\n",
    "# X_train = train_input_height_t\n",
    "# y_train = train_output_height_t\n",
    "# X_test = test_input_height_t\n",
    "# y_test = test_output_height_t\n",
    "\n",
    "# model_type = \"width\"\n",
    "# X_train = train_input_width_t\n",
    "# y_train = train_output_width_t\n",
    "# X_test = test_input_width_t\n",
    "# y_test = test_output_width_t"
   ]
  },
  {
   "cell_type": "code",
   "execution_count": null,
   "metadata": {},
   "outputs": [],
   "source": [
    "X_train"
   ]
  },
  {
   "cell_type": "code",
   "execution_count": null,
   "metadata": {},
   "outputs": [],
   "source": [
    "X_train.shape"
   ]
  },
  {
   "cell_type": "code",
   "execution_count": null,
   "metadata": {},
   "outputs": [],
   "source": [
    "X_test.shape"
   ]
  },
  {
   "cell_type": "code",
   "execution_count": null,
   "metadata": {},
   "outputs": [],
   "source": [
    "y_train.shape"
   ]
  },
  {
   "cell_type": "code",
   "execution_count": null,
   "metadata": {},
   "outputs": [],
   "source": [
    "y_test.shape"
   ]
  },
  {
   "cell_type": "code",
   "execution_count": null,
   "metadata": {},
   "outputs": [],
   "source": [
    "class MLP(L.LightningModule):\n",
    "    def __init__(self, lr=1e-3):\n",
    "        super().__init__()\n",
    "\n",
    "        f1 = 64\n",
    "        f2 = 16\n",
    "        f3 = 16\n",
    "\n",
    "        encoder = nn.Sequential(\n",
    "            nn.Linear(X_train.shape[1], f1), nn.ReLU(), nn.Linear(f1, f2)\n",
    "        )\n",
    "        hidden = nn.Sequential(nn.Linear(f2, f3), nn.ReLU(), nn.Linear(f3, f2))\n",
    "        decoder = nn.Sequential(\n",
    "            nn.Linear(f2, f1), nn.ReLU(), nn.Linear(f1, y_train.shape[1])\n",
    "        )\n",
    "\n",
    "        self.encoder = encoder\n",
    "        self.hidden = hidden\n",
    "        self.decoder = decoder\n",
    "\n",
    "        self.lr = lr\n",
    "\n",
    "    def forward(self, x):\n",
    "        z = self.encoder(x)\n",
    "        z = self.hidden(z)\n",
    "        x_hat = self.decoder(z)\n",
    "\n",
    "        return x_hat\n",
    "\n",
    "    def training_step(self, batch, batch_idx):\n",
    "        x, y = batch\n",
    "\n",
    "        x_hat = self.forward(x)\n",
    "        loss = nn.functional.mse_loss(x_hat, y)\n",
    "        self.log(\"train_loss\", loss)\n",
    "        return loss\n",
    "\n",
    "    def predict(self, x):\n",
    "        x_hat = self.forward(x)\n",
    "        x_hat = torch.round(x_hat)\n",
    "        return x_hat\n",
    "\n",
    "    def configure_optimizers(self):\n",
    "        optimizer = torch.optim.Adam(self.parameters(), lr=self.lr)\n",
    "        return optimizer"
   ]
  },
  {
   "cell_type": "code",
   "execution_count": null,
   "metadata": {},
   "outputs": [],
   "source": [
    "mlp = MLP()"
   ]
  },
  {
   "cell_type": "code",
   "execution_count": null,
   "metadata": {},
   "outputs": [],
   "source": [
    "train_dataset = TensorDataset(\n",
    "    torch.tensor(X_train, dtype=torch.float32),\n",
    "    torch.tensor(y_train, dtype=torch.float32),\n",
    ")\n",
    "test_dataset = TensorDataset(\n",
    "    torch.tensor(X_test, dtype=torch.float32), torch.tensor(y_test, dtype=torch.float32)\n",
    ")\n",
    "\n",
    "train_loader = DataLoader(train_dataset, batch_size=32, shuffle=True)\n",
    "test_loader = DataLoader(test_dataset, batch_size=32, shuffle=False)"
   ]
  },
  {
   "cell_type": "code",
   "execution_count": null,
   "metadata": {},
   "outputs": [],
   "source": [
    "trainer = L.Trainer(\n",
    "    accelerator=\"mps\",\n",
    "    max_epochs=100,\n",
    "    log_every_n_steps=10,\n",
    "    logger=L.pytorch.loggers.TensorBoardLogger(\"lightning_logs\", name=model_type),\n",
    ")\n",
    "trainer.fit(mlp, train_loader)"
   ]
  },
  {
   "cell_type": "code",
   "execution_count": null,
   "metadata": {},
   "outputs": [],
   "source": [
    "ckpts = glob.glob(f\"lightning_logs/{model_type}/version_*/checkpoints/*.ckpt\")\n",
    "latest = sorted(ckpts, key=lambda x: int(x.split(\"version_\")[-1].split(\"/\")[0]))[-1]\n",
    "print(f\"using latest checkpoint: {latest}\")\n",
    "model = MLP.load_from_checkpoint(\n",
    "    latest,\n",
    ")\n",
    "model.to(\"mps\")\n",
    "model"
   ]
  },
  {
   "cell_type": "code",
   "execution_count": null,
   "metadata": {},
   "outputs": [],
   "source": [
    "X_test.shape"
   ]
  },
  {
   "cell_type": "code",
   "execution_count": null,
   "metadata": {},
   "outputs": [],
   "source": [
    "with torch.no_grad():\n",
    "    y_hat = model.predict(torch.tensor(X_test, dtype=torch.float32).to(\"mps\"))"
   ]
  },
  {
   "cell_type": "code",
   "execution_count": null,
   "metadata": {},
   "outputs": [],
   "source": [
    "y_hat"
   ]
  },
  {
   "cell_type": "code",
   "execution_count": null,
   "metadata": {},
   "outputs": [],
   "source": [
    "# compute mse\n",
    "mse = nn.functional.mse_loss(y_hat.cpu(), torch.tensor(y_test, dtype=torch.float32))\n",
    "mse"
   ]
  },
  {
   "cell_type": "code",
   "execution_count": null,
   "metadata": {},
   "outputs": [],
   "source": [
    "# compute accuracy\n",
    "acc = (y_hat.cpu() == torch.tensor(y_test, dtype=torch.float32)).float().mean()\n",
    "acc"
   ]
  },
  {
   "cell_type": "code",
   "execution_count": null,
   "metadata": {},
   "outputs": [],
   "source": []
  },
  {
   "cell_type": "code",
   "execution_count": null,
   "metadata": {},
   "outputs": [],
   "source": []
  }
 ],
 "metadata": {
  "kernelspec": {
   "display_name": "venv",
   "language": "python",
   "name": "python3"
  },
  "language_info": {
   "codemirror_mode": {
    "name": "ipython",
    "version": 3
   },
   "file_extension": ".py",
   "mimetype": "text/x-python",
   "name": "python",
   "nbconvert_exporter": "python",
   "pygments_lexer": "ipython3",
   "version": "3.11.8"
  }
 },
 "nbformat": 4,
 "nbformat_minor": 2
}
